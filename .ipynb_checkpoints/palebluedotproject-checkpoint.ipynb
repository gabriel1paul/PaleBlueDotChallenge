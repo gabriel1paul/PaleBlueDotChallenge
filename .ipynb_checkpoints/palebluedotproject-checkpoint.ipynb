{
 "cells": [
  {
   "cell_type": "markdown",
   "id": "cb2cf2b8-8191-44b0-844d-fd47e8f48653",
   "metadata": {},
   "source": [
    "# The Pale Blue Dot Challenge Workflow <br>\n",
    "By:<br>\n",
    "\n",
    "**Julius Kimani** <br>\n",
    "**Gabriel Paul** <br>\n",
    "**Leone Majur** <br>\n",
    "\n",
    "The workflow comprised the following: <br>\n",
    "\n",
    "* Using Google Earth Engine's Python API\n",
    "* Defining an AOI (area of interest) in the Mt. Kenya region\n",
    "* Importing multiple Landsat images from the dates before and after Fire ocurrence\n",
    "* Determining which images are best for analysis\n",
    "* Creating various NDVI map outputs to assess the amount of fire damage\n",
    "\n",
    "## Python libraries in this workflow\n",
    "* [pandas](https://pandas.pydata.org/docs/getting_started/index.html)<br>\n",
    "* [geopandas](https://geopandas.org/en/stable/gallery/index.html)<br>\n",
    "* [google earth engine](https://developers.google.com/earth-engine/tutorials/community/intro-to-python-api-guiattard) <br>\n",
    "* [matplotlib](https://matplotlib.org/) <br>\n",
    "* [folium](https://realpython.com/python-folium-web-maps-from-data/) <br>\n"
   ]
  },
  {
   "cell_type": "markdown",
   "id": "061c6416-a13b-4b3c-82fa-8b17c64e0a7e",
   "metadata": {},
   "source": [
    "## Importing Libraries"
   ]
  },
  {
   "cell_type": "code",
   "execution_count": 2,
   "id": "b04f4c7d-5bc3-4312-b8f9-fbcf581b1e14",
   "metadata": {},
   "outputs": [],
   "source": [
    "# the regulars\n",
    "import geopandas as gpd\n",
    "import matplotlib.pyplot as plt\n",
    "\n",
    "# work with dates\n",
    "from datetime import datetime as dt\n",
    "\n",
    "# allow images to display\n",
    "from IPython.display import Image\n",
    "\n",
    "# earth engine\n",
    "import ee"
   ]
  },
  {
   "cell_type": "markdown",
   "id": "c1f1fe25-8a66-4920-8485-06116b0d12ec",
   "metadata": {},
   "source": [
    "## Authenticate Earth Engine"
   ]
  },
  {
   "cell_type": "code",
   "execution_count": 3,
   "id": "992e1e4c-e581-40df-9419-9f82241477d7",
   "metadata": {},
   "outputs": [
    {
     "data": {
      "text/html": [
       "<p>To authorize access needed by Earth Engine, open the following\n",
       "        URL in a web browser and follow the instructions:</p>\n",
       "        <p><a href=https://code.earthengine.google.com/client-auth?scopes=https%3A//www.googleapis.com/auth/earthengine%20https%3A//www.googleapis.com/auth/devstorage.full_control&request_id=SYRjapAUmTq1KzoFbCWqyTk73g2jOxsgodOSO78EO0w&tc=mf1R7jsy7nAI5F4IaK5kfW_aJF2fVQx3QiiCtejHz6M&cc=GTiM24Fs3T905LrLU_9uUAyMMlGvlUq7nFurlUXLTUA>https://code.earthengine.google.com/client-auth?scopes=https%3A//www.googleapis.com/auth/earthengine%20https%3A//www.googleapis.com/auth/devstorage.full_control&request_id=SYRjapAUmTq1KzoFbCWqyTk73g2jOxsgodOSO78EO0w&tc=mf1R7jsy7nAI5F4IaK5kfW_aJF2fVQx3QiiCtejHz6M&cc=GTiM24Fs3T905LrLU_9uUAyMMlGvlUq7nFurlUXLTUA</a></p>\n",
       "        <p>The authorization workflow will generate a code, which you should paste in the box below.</p>\n",
       "        "
      ],
      "text/plain": [
       "<IPython.core.display.HTML object>"
      ]
     },
     "metadata": {},
     "output_type": "display_data"
    },
    {
     "name": "stdin",
     "output_type": "stream",
     "text": [
      "Enter verification code:  4/1AfJohXnF9dJaYtx17E2iZM5CQCzXmQF1sxLDkBNHgFKLc-U_KYiySHoQehE\n"
     ]
    },
    {
     "name": "stdout",
     "output_type": "stream",
     "text": [
      "\n",
      "Successfully saved authorization token.\n"
     ]
    }
   ],
   "source": [
    "# Trigger the authentication flow.\n",
    "ee.Authenticate()\n",
    "\n",
    "# Initialize the library.\n",
    "ee.Initialize()"
   ]
  },
  {
   "cell_type": "markdown",
   "id": "980189ac-0e60-4f8c-81be-3e18d8590d2d",
   "metadata": {},
   "source": [
    "For this workflow, we use Google Earth Engine's \"USGS Landsat 8 Level 2, Collection 2, Tier 1\" <br>\n",
    "\n",
    "* [EE Landsat 8](https://developers.google.com/earth-engine/datasets/catalog/LANDSAT_LC08_C02_T1_L2)\n",
    "\n",
    "\n",
    "  ## Defining Filters"
   ]
  },
  {
   "cell_type": "code",
   "execution_count": 6,
   "id": "5b8cff95-125d-428e-a025-808e0d3edc4a",
   "metadata": {},
   "outputs": [],
   "source": [
    "# coordinates of the bobcat fire\n",
    "lat = -0.18\n",
    "lon = 37.3\n",
    "\n",
    "# point of interest as an ee.Geometry\n",
    "poi = ee.Geometry.Point(lon,lat)\n",
    "\n",
    "# start date of range to filter for\n",
    "start_date = '2018-12-09'\n",
    "\n",
    "# end date\n",
    "end_date = '2019-04-09'"
   ]
  },
  {
   "cell_type": "markdown",
   "id": "91f4d5b1-4985-4eb9-976e-8756de776c64",
   "metadata": {},
   "source": [
    "## Getting Landsat 8 data"
   ]
  },
  {
   "cell_type": "code",
   "execution_count": 7,
   "id": "821987ad-ce56-4188-b718-33d6b257fc7f",
   "metadata": {},
   "outputs": [],
   "source": [
    "# get the satellite data\n",
    "# ee.ImageCollection(\"LANDSAT/LC08/C02/T1_L2\")\n",
    "# landsat = ee.ImageCollection(\"LANDSAT/LC08/C02/T1_L2\")\\\n",
    "landsat = ee.ImageCollection(\"LANDSAT/LC08/C01/T1_SR\")\\\n",
    "            .filterBounds(poi)\\\n",
    "            .filterDate(start_date,end_date)"
   ]
  },
  {
   "cell_type": "code",
   "execution_count": 9,
   "id": "7bcb21f2-2e4f-4582-9042-b4890d119418",
   "metadata": {},
   "outputs": [
    {
     "name": "stdout",
     "output_type": "stream",
     "text": [
      "Total number: 8\n"
     ]
    }
   ],
   "source": [
    "# how many images did we get?\n",
    "print('Total number:', landsat.size().getInfo())"
   ]
  },
  {
   "cell_type": "code",
   "execution_count": 10,
   "id": "4c1598db-e449-46f7-9e4c-8a51d3e3ab62",
   "metadata": {},
   "outputs": [
    {
     "data": {
      "text/plain": [
       "{'type': 'Image',\n",
       " 'bands': [{'id': 'B1',\n",
       "   'data_type': {'type': 'PixelType',\n",
       "    'precision': 'int',\n",
       "    'min': -32768,\n",
       "    'max': 32767},\n",
       "   'dimensions': [7591, 7741],\n",
       "   'crs': 'EPSG:32637',\n",
       "   'crs_transform': [30, 0, 209685, 0, -30, 115815]},\n",
       "  {'id': 'B2',\n",
       "   'data_type': {'type': 'PixelType',\n",
       "    'precision': 'int',\n",
       "    'min': -32768,\n",
       "    'max': 32767},\n",
       "   'dimensions': [7591, 7741],\n",
       "   'crs': 'EPSG:32637',\n",
       "   'crs_transform': [30, 0, 209685, 0, -30, 115815]},\n",
       "  {'id': 'B3',\n",
       "   'data_type': {'type': 'PixelType',\n",
       "    'precision': 'int',\n",
       "    'min': -32768,\n",
       "    'max': 32767},\n",
       "   'dimensions': [7591, 7741],\n",
       "   'crs': 'EPSG:32637',\n",
       "   'crs_transform': [30, 0, 209685, 0, -30, 115815]},\n",
       "  {'id': 'B4',\n",
       "   'data_type': {'type': 'PixelType',\n",
       "    'precision': 'int',\n",
       "    'min': -32768,\n",
       "    'max': 32767},\n",
       "   'dimensions': [7591, 7741],\n",
       "   'crs': 'EPSG:32637',\n",
       "   'crs_transform': [30, 0, 209685, 0, -30, 115815]},\n",
       "  {'id': 'B5',\n",
       "   'data_type': {'type': 'PixelType',\n",
       "    'precision': 'int',\n",
       "    'min': -32768,\n",
       "    'max': 32767},\n",
       "   'dimensions': [7591, 7741],\n",
       "   'crs': 'EPSG:32637',\n",
       "   'crs_transform': [30, 0, 209685, 0, -30, 115815]},\n",
       "  {'id': 'B6',\n",
       "   'data_type': {'type': 'PixelType',\n",
       "    'precision': 'int',\n",
       "    'min': -32768,\n",
       "    'max': 32767},\n",
       "   'dimensions': [7591, 7741],\n",
       "   'crs': 'EPSG:32637',\n",
       "   'crs_transform': [30, 0, 209685, 0, -30, 115815]},\n",
       "  {'id': 'B7',\n",
       "   'data_type': {'type': 'PixelType',\n",
       "    'precision': 'int',\n",
       "    'min': -32768,\n",
       "    'max': 32767},\n",
       "   'dimensions': [7591, 7741],\n",
       "   'crs': 'EPSG:32637',\n",
       "   'crs_transform': [30, 0, 209685, 0, -30, 115815]},\n",
       "  {'id': 'B10',\n",
       "   'data_type': {'type': 'PixelType',\n",
       "    'precision': 'int',\n",
       "    'min': -32768,\n",
       "    'max': 32767},\n",
       "   'dimensions': [7591, 7741],\n",
       "   'crs': 'EPSG:32637',\n",
       "   'crs_transform': [30, 0, 209685, 0, -30, 115815]},\n",
       "  {'id': 'B11',\n",
       "   'data_type': {'type': 'PixelType',\n",
       "    'precision': 'int',\n",
       "    'min': -32768,\n",
       "    'max': 32767},\n",
       "   'dimensions': [7591, 7741],\n",
       "   'crs': 'EPSG:32637',\n",
       "   'crs_transform': [30, 0, 209685, 0, -30, 115815]},\n",
       "  {'id': 'sr_aerosol',\n",
       "   'data_type': {'type': 'PixelType',\n",
       "    'precision': 'int',\n",
       "    'min': 0,\n",
       "    'max': 255},\n",
       "   'dimensions': [7591, 7741],\n",
       "   'crs': 'EPSG:32637',\n",
       "   'crs_transform': [30, 0, 209685, 0, -30, 115815]},\n",
       "  {'id': 'pixel_qa',\n",
       "   'data_type': {'type': 'PixelType',\n",
       "    'precision': 'int',\n",
       "    'min': 0,\n",
       "    'max': 65535},\n",
       "   'dimensions': [7591, 7741],\n",
       "   'crs': 'EPSG:32637',\n",
       "   'crs_transform': [30, 0, 209685, 0, -30, 115815]},\n",
       "  {'id': 'radsat_qa',\n",
       "   'data_type': {'type': 'PixelType',\n",
       "    'precision': 'int',\n",
       "    'min': 0,\n",
       "    'max': 65535},\n",
       "   'dimensions': [7591, 7741],\n",
       "   'crs': 'EPSG:32637',\n",
       "   'crs_transform': [30, 0, 209685, 0, -30, 115815]}],\n",
       " 'id': 'LANDSAT/LC08/C01/T1_SR/LC08_168060_20181215',\n",
       " 'version': 1546765798622972,\n",
       " 'properties': {'IMAGE_QUALITY_TIRS': 9,\n",
       "  'CLOUD_COVER': 28.2,\n",
       "  'EARTH_SUN_DISTANCE': 0.984249,\n",
       "  'LANDSAT_ID': 'LC08_L1TP_168060_20181215_20181227_01_T1',\n",
       "  'system:footprint': {'type': 'LinearRing',\n",
       "   'coordinates': [[38.410842150467744, 0.6902898976881461],\n",
       "    [38.41084198987417, 0.6915635898476804],\n",
       "    [38.390004035861786, 0.6960558297065313],\n",
       "    [37.91023961112924, 0.7990410284648508],\n",
       "    [37.01988506636155, 0.9899415106529702],\n",
       "    [36.78054424961671, 1.041199114221665],\n",
       "    [36.77997090309507, 1.0406211749940923],\n",
       "    [36.7787243357802, 1.0351662098524888],\n",
       "    [36.76723646898037, 0.981968549936266],\n",
       "    [36.755267913085596, 0.9258301000561807],\n",
       "    [36.73780487157057, 0.8436433988829091],\n",
       "    [36.630255501058556, 0.33700434624418957],\n",
       "    [36.52119392928109, -0.17687824682663728],\n",
       "    [36.41124337670806, -0.6939372756912021],\n",
       "    [36.48297405221366, -0.7094715638468324],\n",
       "    [36.96274075583221, -0.8133253697418101],\n",
       "    [37.82972805197664, -1.0009118354370719],\n",
       "    [38.04159093520513, -1.046725868406701],\n",
       "    [38.05138784969966, -1.0013193471622837],\n",
       "    [38.05840690995315, -0.9684838646664503],\n",
       "    [38.24643179715633, -0.08541003723630981],\n",
       "    [38.410842150467744, 0.6902898976881461]]},\n",
       "  'CLOUD_COVER_LAND': 28.2,\n",
       "  'GEOMETRIC_RMSE_MODEL': 7.204,\n",
       "  'SR_APP_VERSION': 'LaSRC_1.3.0',\n",
       "  'SATELLITE': 'LANDSAT_8',\n",
       "  'SOLAR_AZIMUTH_ANGLE': 134.776993,\n",
       "  'IMAGE_QUALITY_OLI': 9,\n",
       "  'system:time_end': 1544859759300,\n",
       "  'WRS_PATH': 168,\n",
       "  'system:time_start': 1544859759300,\n",
       "  'SENSING_TIME': '2018-12-15T07:42:39.3057580Z',\n",
       "  'ESPA_VERSION': '2_23_0_1b',\n",
       "  'SOLAR_ZENITH_ANGLE': 34.110371,\n",
       "  'WRS_ROW': 60,\n",
       "  'GEOMETRIC_RMSE_MODEL_Y': 5.509,\n",
       "  'LEVEL1_PRODUCTION_DATE': 1545883433000,\n",
       "  'GEOMETRIC_RMSE_MODEL_X': 4.643,\n",
       "  'system:asset_size': 698223615,\n",
       "  'PIXEL_QA_VERSION': 'generate_pixel_qa_1.6.0',\n",
       "  'system:index': 'LC08_168060_20181215'}}"
      ]
     },
     "execution_count": 10,
     "metadata": {},
     "output_type": "execute_result"
    }
   ],
   "source": [
    "# information about the first image in our collection\n",
    "landsat.first().getInfo()"
   ]
  },
  {
   "cell_type": "code",
   "execution_count": 14,
   "id": "4eef5486-64d0-4f28-a44b-5a872c5ff880",
   "metadata": {},
   "outputs": [
    {
     "data": {
      "text/plain": [
       "28.2"
      ]
     },
     "execution_count": 14,
     "metadata": {},
     "output_type": "execute_result"
    }
   ],
   "source": [
    "# what about cloud cover of our first image?\n",
    "landsat.first().get('CLOUD_COVER').getInfo()"
   ]
  },
  {
   "cell_type": "code",
   "execution_count": 15,
   "id": "c96590a9-07d2-45c0-aa38-bb8ce8ffa746",
   "metadata": {},
   "outputs": [
    {
     "data": {
      "text/plain": [
       "'2018-12-15 07:42:39'"
      ]
     },
     "execution_count": 15,
     "metadata": {},
     "output_type": "execute_result"
    }
   ],
   "source": [
    "# when was this image taken?\n",
    "date = ee.Date(landsat.first().get('system:time_start')).getInfo()['value']\n",
    "time = date/1000\n",
    "date = dt.utcfromtimestamp(time).strftime('%Y-%m-%d %H:%M:%S')\n",
    "date"
   ]
  },
  {
   "cell_type": "markdown",
   "id": "0864a0fd-8410-4caf-9886-7cee5e075704",
   "metadata": {},
   "source": [
    "## Bands\n",
    "\n",
    "[Source: USGS](https://www.usgs.gov/media/images/landsat-8-band-designations)\n",
    "\n",
    "![title](img/bands.jpg)\n",
    "\n"
   ]
  },
  {
   "cell_type": "code",
   "execution_count": 16,
   "id": "59ed9293-47ee-4e0d-b7ff-470a44db14fe",
   "metadata": {},
   "outputs": [
    {
     "data": {
      "text/plain": [
       "['B1',\n",
       " 'B2',\n",
       " 'B3',\n",
       " 'B4',\n",
       " 'B5',\n",
       " 'B6',\n",
       " 'B7',\n",
       " 'B10',\n",
       " 'B11',\n",
       " 'sr_aerosol',\n",
       " 'pixel_qa',\n",
       " 'radsat_qa']"
      ]
     },
     "execution_count": 16,
     "metadata": {},
     "output_type": "execute_result"
    }
   ],
   "source": [
    "# what bands did we get?\n",
    "landsat.first().bandNames().getInfo()"
   ]
  },
  {
   "cell_type": "code",
   "execution_count": 17,
   "id": "7a816c9b-19da-40d9-8b8b-7463bf8e503d",
   "metadata": {},
   "outputs": [],
   "source": [
    "# put the images in a list\n",
    "landsat_list = landsat.toList(landsat.size());"
   ]
  },
  {
   "cell_type": "markdown",
   "id": "be4c1826-324d-4aa9-9348-d3cdda1771e7",
   "metadata": {},
   "source": [
    "## Displaying the Satellite Images <br>\n",
    "\n",
    "* [what are the min/max values?](https://gis.stackexchange.com/questions/304180/what-are-the-min-and-max-values-of-map-addlayer-on-google-earth-engine)"
   ]
  },
  {
   "cell_type": "code",
   "execution_count": 20,
   "id": "3eb1dea1-e479-414a-9ff0-774f3ebfbbeb",
   "metadata": {},
   "outputs": [],
   "source": [
    "# set some parameters for image\n",
    "parameters = {\n",
    "                'min': 0,\n",
    "                'max': 2500,\n",
    "                'dimensions': 600,\n",
    "                'bands': ['B4', 'B3', 'B2']\n",
    "             }"
   ]
  },
  {
   "cell_type": "code",
   "execution_count": 22,
   "id": "9bc27ffc-9ed3-46b0-8788-dae7d050c822",
   "metadata": {},
   "outputs": [
    {
     "name": "stdout",
     "output_type": "stream",
     "text": [
      "Image # 0 2018-12-15 07:42:39 Cloud cover: 28.2\n"
     ]
    },
    {
     "data": {
      "text/html": [
       "<img src=\"https://earthengine.googleapis.com/v1/projects/earthengine-legacy/thumbnails/dc234d399cc9a225796633aaf531d675-3635042d63d7148bddd65bab07ae7e2f:getPixels\"/>"
      ],
      "text/plain": [
       "<IPython.core.display.Image object>"
      ]
     },
     "metadata": {},
     "output_type": "display_data"
    },
    {
     "name": "stdout",
     "output_type": "stream",
     "text": [
      "Image # 1 2018-12-31 07:42:39 Cloud cover: 43.92\n"
     ]
    },
    {
     "data": {
      "text/html": [
       "<img src=\"https://earthengine.googleapis.com/v1/projects/earthengine-legacy/thumbnails/957996555332037259798a68eb183db4-09ba932a4a46a0aca5bbf2053e8a26a0:getPixels\"/>"
      ],
      "text/plain": [
       "<IPython.core.display.Image object>"
      ]
     },
     "metadata": {},
     "output_type": "display_data"
    },
    {
     "name": "stdout",
     "output_type": "stream",
     "text": [
      "Image # 2 2019-01-16 07:42:37 Cloud cover: 33.61\n"
     ]
    },
    {
     "data": {
      "text/html": [
       "<img src=\"https://earthengine.googleapis.com/v1/projects/earthengine-legacy/thumbnails/e96e17851702cdd53a7429f981fbc05a-c1e474e22ff18e25919f8f6a83d73123:getPixels\"/>"
      ],
      "text/plain": [
       "<IPython.core.display.Image object>"
      ]
     },
     "metadata": {},
     "output_type": "display_data"
    },
    {
     "name": "stdout",
     "output_type": "stream",
     "text": [
      "Image # 3 2019-02-01 07:42:33 Cloud cover: 10.02\n"
     ]
    },
    {
     "data": {
      "text/html": [
       "<img src=\"https://earthengine.googleapis.com/v1/projects/earthengine-legacy/thumbnails/a1880e421da322637994170065059f6e-a573945862d67bfb5b368c99331be93d:getPixels\"/>"
      ],
      "text/plain": [
       "<IPython.core.display.Image object>"
      ]
     },
     "metadata": {},
     "output_type": "display_data"
    },
    {
     "name": "stdout",
     "output_type": "stream",
     "text": [
      "Image # 4 2019-02-17 07:42:31 Cloud cover: 25.69\n"
     ]
    },
    {
     "data": {
      "text/html": [
       "<img src=\"https://earthengine.googleapis.com/v1/projects/earthengine-legacy/thumbnails/8639d7f511348ba9ce3e4bf50183e4dc-8270b1fe6b47995d55e5e27704035e18:getPixels\"/>"
      ],
      "text/plain": [
       "<IPython.core.display.Image object>"
      ]
     },
     "metadata": {},
     "output_type": "display_data"
    },
    {
     "name": "stdout",
     "output_type": "stream",
     "text": [
      "Image # 5 2019-03-05 07:42:26 Cloud cover: 27.79\n"
     ]
    },
    {
     "data": {
      "text/html": [
       "<img src=\"https://earthengine.googleapis.com/v1/projects/earthengine-legacy/thumbnails/6f8bb9d1f2932606bfafc3f13da07b05-236c1350cd20fbbc9431fd1593130267:getPixels\"/>"
      ],
      "text/plain": [
       "<IPython.core.display.Image object>"
      ]
     },
     "metadata": {},
     "output_type": "display_data"
    },
    {
     "name": "stdout",
     "output_type": "stream",
     "text": [
      "Image # 6 2019-03-21 07:42:22 Cloud cover: 2.88\n"
     ]
    },
    {
     "data": {
      "text/html": [
       "<img src=\"https://earthengine.googleapis.com/v1/projects/earthengine-legacy/thumbnails/cdf94805c0ffc5032206aebf5240bae4-2ffcbdd5d80d58b9886a32efe6b10cdb:getPixels\"/>"
      ],
      "text/plain": [
       "<IPython.core.display.Image object>"
      ]
     },
     "metadata": {},
     "output_type": "display_data"
    },
    {
     "name": "stdout",
     "output_type": "stream",
     "text": [
      "Image # 7 2019-04-06 07:42:18 Cloud cover: 17.22\n"
     ]
    },
    {
     "data": {
      "text/html": [
       "<img src=\"https://earthengine.googleapis.com/v1/projects/earthengine-legacy/thumbnails/98e284e9fb629d24534846dff43f5b4e-9fdefa718c6d16b1d521472bc6022d74:getPixels\"/>"
      ],
      "text/plain": [
       "<IPython.core.display.Image object>"
      ]
     },
     "metadata": {},
     "output_type": "display_data"
    }
   ],
   "source": [
    "# loop through each image and display it\n",
    "for i in range(landsat.size().getInfo()):\n",
    "\n",
    "    # when was this image taken?\n",
    "    date = ee.Date(ee.Image(landsat_list.get(i)).get('system:time_start'))\n",
    "    time = date.getInfo()['value']/1000\n",
    "    date = dt.utcfromtimestamp(time).strftime('%Y-%m-%d %H:%M:%S')\n",
    "    \n",
    "    # cloud cover\n",
    "    cloud = ee.Image(landsat_list.get(i)).get('CLOUD_COVER').getInfo()\n",
    "    \n",
    "    print('Image #',i,date,'Cloud cover:',cloud)\n",
    "    \n",
    "    display(Image(url = ee.Image(landsat_list.get(i)).getThumbUrl(parameters)))"
   ]
  },
  {
   "cell_type": "markdown",
   "id": "cb19bc7e-f2c9-4ac7-8f17-630ae7430bb9",
   "metadata": {},
   "source": [
    "## Selecting images, zooming in <br>\n",
    "\n",
    "Now that we had inspected our collection of images, we picked and chose which ones were relevant for our study. Ideally, we picked images for before and after the fire to be able to assess the level of damage. <br>\n",
    "\n",
    "We also created an ROI (region of interest) and zoomed in to the area of interest. We did so by applying a 25km buffer around our POI."
   ]
  },
  {
   "cell_type": "code",
   "execution_count": 23,
   "id": "7a8317cf-1934-4b31-b48a-9ee6b1948cc4",
   "metadata": {},
   "outputs": [],
   "source": [
    "# create a list of images we want (before and after)\n",
    "landsat_sequence = [3,6]"
   ]
  },
  {
   "cell_type": "code",
   "execution_count": 24,
   "id": "53485f33-c432-46ed-9cde-acd91127923a",
   "metadata": {},
   "outputs": [],
   "source": [
    "# Define a region of interest with a buffer zone of 25 km\n",
    "roi = poi.buffer(25000) # meters"
   ]
  },
  {
   "cell_type": "code",
   "execution_count": 25,
   "id": "4492353a-8b75-41c1-9375-5c3c07ccc4f9",
   "metadata": {},
   "outputs": [],
   "source": [
    "parameters = {'min': 0,\n",
    "              'max': 2500,\n",
    "              'dimensions': 512,\n",
    "              'bands': ['B4', 'B3', 'B2'],\n",
    "              'region':roi\n",
    "              }"
   ]
  },
  {
   "cell_type": "code",
   "execution_count": 36,
   "id": "652c8e8f-20ab-499c-8ab8-ce8b90f35be5",
   "metadata": {},
   "outputs": [
    {
     "name": "stdout",
     "output_type": "stream",
     "text": [
      "Image # 3 2019-02-01 07:42:33 Cloud cover: 10.02\n"
     ]
    },
    {
     "data": {
      "text/html": [
       "<img src=\"https://earthengine.googleapis.com/v1/projects/earthengine-legacy/thumbnails/87e732611367d874dde026e4e1d10829-fe1be386f88535e703f78b11308ca83b:getPixels\"/>"
      ],
      "text/plain": [
       "<IPython.core.display.Image object>"
      ]
     },
     "metadata": {},
     "output_type": "display_data"
    },
    {
     "name": "stdout",
     "output_type": "stream",
     "text": [
      "Image # 6 2019-03-21 07:42:22 Cloud cover: 2.88\n"
     ]
    },
    {
     "data": {
      "text/html": [
       "<img src=\"https://earthengine.googleapis.com/v1/projects/earthengine-legacy/thumbnails/a6a5b93a6bf6f9b061704a56f16067ec-27c4dc201c4d6848a4aa1a49c9d26e01:getPixels\"/>"
      ],
      "text/plain": [
       "<IPython.core.display.Image object>"
      ]
     },
     "metadata": {},
     "output_type": "display_data"
    }
   ],
   "source": [
    "for i in landsat_sequence:\n",
    "    # when was this image taken?\n",
    "    date = ee.Date(ee.Image(landsat_list.get(i)).get('system:time_start'))\n",
    "    time = date.getInfo()['value']/1000\n",
    "    date = dt.utcfromtimestamp(time).strftime('%Y-%m-%d %H:%M:%S')\n",
    "\n",
    "    # cloud cover\n",
    "    cloud = ee.Image(landsat_list.get(i)).get('CLOUD_COVER').getInfo()\n",
    "    \n",
    "    print('Image #',i,date,'Cloud cover:',cloud)\n",
    "    \n",
    "    display(Image(url = ee.Image(landsat_list.get(i)).getThumbUrl(parameters)))"
   ]
  },
  {
   "cell_type": "markdown",
   "id": "641bede4-1ab2-4e3e-8319-1f6d651f3877",
   "metadata": {},
   "source": [
    "## Normalized Difference Vegetation Index (NDVI) <br>\n",
    "\n",
    "The normalized difference vegetation index (NDVI) is a simple graphical indicator that can be used to analyze remote sensing measurements, often from a space platform, assessing whether or not the target being observed contains live green vegetation.\n",
    "\n",
    "![title](img/ndvi.png)\n",
    "\n",
    "* [Source:Agricolus](https://www.agricolus.com/en/vegetation-indices-ndvi-ndmi/) <br>\n",
    "\n",
    "### Calculating NDVI in Google Earth Engine <br>\n",
    "\n",
    "* https://developers.google.com/earth-engine/tutorials/tutorial_api_06"
   ]
  },
  {
   "cell_type": "code",
   "execution_count": 27,
   "id": "da9deeb3-5bf9-4596-b913-4f29378a49bd",
   "metadata": {},
   "outputs": [],
   "source": [
    "# ndvi palette: red is low, green is high vegetation\n",
    "palette = ['red', 'yellow', 'green']\n",
    "\n",
    "ndvi_parameters = {'min': 0,\n",
    "                   'max': 1,\n",
    "                   'dimensions': 512,\n",
    "                   'palette': palette,\n",
    "                   'region': roi}"
   ]
  },
  {
   "cell_type": "code",
   "execution_count": 28,
   "id": "47cbe83b-fa02-41b8-9e80-110a4011799c",
   "metadata": {},
   "outputs": [
    {
     "name": "stdout",
     "output_type": "stream",
     "text": [
      "Image # 3 2019-02-01 07:42:33\n"
     ]
    },
    {
     "data": {
      "text/html": [
       "<img src=\"https://earthengine.googleapis.com/v1/projects/earthengine-legacy/thumbnails/ce346444cff291c5edb4f610d865b1f4-3885e4e1b8ee7495a6c482442b90e88d:getPixels\"/>"
      ],
      "text/plain": [
       "<IPython.core.display.Image object>"
      ]
     },
     "metadata": {},
     "output_type": "display_data"
    },
    {
     "name": "stdout",
     "output_type": "stream",
     "text": [
      "Image # 6 2019-03-21 07:42:22\n"
     ]
    },
    {
     "data": {
      "text/html": [
       "<img src=\"https://earthengine.googleapis.com/v1/projects/earthengine-legacy/thumbnails/796e87d49595a5170e9b5b0dcb7f4fff-c5000a9ff7452713c0b34e489eeace8e:getPixels\"/>"
      ],
      "text/plain": [
       "<IPython.core.display.Image object>"
      ]
     },
     "metadata": {},
     "output_type": "display_data"
    }
   ],
   "source": [
    "for i in landsat_sequence:\n",
    "\n",
    "    # when was this image taken?\n",
    "    date = ee.Date(ee.Image(landsat_list.get(i)).get('system:time_start'))\n",
    "    time = date.getInfo()['value']/1000\n",
    "    date = dt.utcfromtimestamp(time).strftime('%Y-%m-%d %H:%M:%S')\n",
    "    \n",
    "    # print some information\n",
    "    print('Image #',i,date)\n",
    "    \n",
    "    # display the image\n",
    "    display(Image(url=ee.Image(landsat_list.get(i)).normalizedDifference(['B5', 'B4']).getThumbUrl(ndvi_parameters)))"
   ]
  },
  {
   "cell_type": "markdown",
   "id": "6475b743-6045-40f2-a2ad-c229e753b3ab",
   "metadata": {},
   "source": [
    "## Folium <br>\n",
    "\n",
    "We couldn't end the workflow without an interactive map. For this, we used folium, which uses the open-source javascript mapping library leaflet. <br>\n",
    "\n",
    "* https://python-visualization.github.io/folium/quickstart.html <br>\n",
    "  \n",
    "    Google earth engine works with folium: <br>\n",
    "\n",
    "* https://developers.google.com/earth-engine/tutorials/community/intro-to-python-api-guiattard?hl=en#interactive_mapping_using_folium"
   ]
  },
  {
   "cell_type": "code",
   "execution_count": 29,
   "id": "2785bf5d-bd3b-4497-a452-6695855ccdbd",
   "metadata": {},
   "outputs": [
    {
     "data": {
      "text/html": [
       "<div style=\"width:100%;\"><div style=\"position:relative;width:100%;height:0;padding-bottom:60%;\"><span style=\"color:#565656\">Make this Notebook Trusted to load map: File -> Trust Notebook</span><iframe srcdoc=\"&lt;!DOCTYPE html&gt;\n",
       "&lt;html&gt;\n",
       "&lt;head&gt;\n",
       "    \n",
       "    &lt;meta http-equiv=&quot;content-type&quot; content=&quot;text/html; charset=UTF-8&quot; /&gt;\n",
       "    \n",
       "        &lt;script&gt;\n",
       "            L_NO_TOUCH = false;\n",
       "            L_DISABLE_3D = false;\n",
       "        &lt;/script&gt;\n",
       "    \n",
       "    &lt;style&gt;html, body {width: 100%;height: 100%;margin: 0;padding: 0;}&lt;/style&gt;\n",
       "    &lt;style&gt;#map {position:absolute;top:0;bottom:0;right:0;left:0;}&lt;/style&gt;\n",
       "    &lt;script src=&quot;https://cdn.jsdelivr.net/npm/leaflet@1.9.3/dist/leaflet.js&quot;&gt;&lt;/script&gt;\n",
       "    &lt;script src=&quot;https://code.jquery.com/jquery-3.7.1.min.js&quot;&gt;&lt;/script&gt;\n",
       "    &lt;script src=&quot;https://cdn.jsdelivr.net/npm/bootstrap@5.2.2/dist/js/bootstrap.bundle.min.js&quot;&gt;&lt;/script&gt;\n",
       "    &lt;script src=&quot;https://cdnjs.cloudflare.com/ajax/libs/Leaflet.awesome-markers/2.0.2/leaflet.awesome-markers.js&quot;&gt;&lt;/script&gt;\n",
       "    &lt;link rel=&quot;stylesheet&quot; href=&quot;https://cdn.jsdelivr.net/npm/leaflet@1.9.3/dist/leaflet.css&quot;/&gt;\n",
       "    &lt;link rel=&quot;stylesheet&quot; href=&quot;https://cdn.jsdelivr.net/npm/bootstrap@5.2.2/dist/css/bootstrap.min.css&quot;/&gt;\n",
       "    &lt;link rel=&quot;stylesheet&quot; href=&quot;https://netdna.bootstrapcdn.com/bootstrap/3.0.0/css/bootstrap.min.css&quot;/&gt;\n",
       "    &lt;link rel=&quot;stylesheet&quot; href=&quot;https://cdn.jsdelivr.net/npm/@fortawesome/fontawesome-free@6.2.0/css/all.min.css&quot;/&gt;\n",
       "    &lt;link rel=&quot;stylesheet&quot; href=&quot;https://cdnjs.cloudflare.com/ajax/libs/Leaflet.awesome-markers/2.0.2/leaflet.awesome-markers.css&quot;/&gt;\n",
       "    &lt;link rel=&quot;stylesheet&quot; href=&quot;https://cdn.jsdelivr.net/gh/python-visualization/folium/folium/templates/leaflet.awesome.rotate.min.css&quot;/&gt;\n",
       "    \n",
       "            &lt;meta name=&quot;viewport&quot; content=&quot;width=device-width,\n",
       "                initial-scale=1.0, maximum-scale=1.0, user-scalable=no&quot; /&gt;\n",
       "            &lt;style&gt;\n",
       "                #map_f51ea4e8c7f66382e2235f3707edf441 {\n",
       "                    position: relative;\n",
       "                    width: 100.0%;\n",
       "                    height: 100.0%;\n",
       "                    left: 0.0%;\n",
       "                    top: 0.0%;\n",
       "                }\n",
       "                .leaflet-container { font-size: 1rem; }\n",
       "            &lt;/style&gt;\n",
       "        \n",
       "&lt;/head&gt;\n",
       "&lt;body&gt;\n",
       "    \n",
       "    \n",
       "            &lt;div class=&quot;folium-map&quot; id=&quot;map_f51ea4e8c7f66382e2235f3707edf441&quot; &gt;&lt;/div&gt;\n",
       "        \n",
       "&lt;/body&gt;\n",
       "&lt;script&gt;\n",
       "    \n",
       "    \n",
       "            var map_f51ea4e8c7f66382e2235f3707edf441 = L.map(\n",
       "                &quot;map_f51ea4e8c7f66382e2235f3707edf441&quot;,\n",
       "                {\n",
       "                    center: [-0.18, 37.3],\n",
       "                    crs: L.CRS.EPSG3857,\n",
       "                    zoom: 10,\n",
       "                    zoomControl: true,\n",
       "                    preferCanvas: false,\n",
       "                }\n",
       "            );\n",
       "\n",
       "            \n",
       "\n",
       "        \n",
       "    \n",
       "            var tile_layer_7b6bb8b5327dcad7ae1e8921993fe59e = L.tileLayer(\n",
       "                &quot;https://tile.openstreetmap.org/{z}/{x}/{y}.png&quot;,\n",
       "                {&quot;attribution&quot;: &quot;\\u0026copy; \\u003ca href=\\&quot;https://www.openstreetmap.org/copyright\\&quot;\\u003eOpenStreetMap\\u003c/a\\u003e contributors&quot;, &quot;detectRetina&quot;: false, &quot;maxNativeZoom&quot;: 19, &quot;maxZoom&quot;: 19, &quot;minZoom&quot;: 0, &quot;noWrap&quot;: false, &quot;opacity&quot;: 1, &quot;subdomains&quot;: &quot;abc&quot;, &quot;tms&quot;: false}\n",
       "            );\n",
       "        \n",
       "    \n",
       "            tile_layer_7b6bb8b5327dcad7ae1e8921993fe59e.addTo(map_f51ea4e8c7f66382e2235f3707edf441);\n",
       "        \n",
       "&lt;/script&gt;\n",
       "&lt;/html&gt;\" style=\"position:absolute;width:100%;height:100%;left:0;top:0;border:none !important;\" allowfullscreen webkitallowfullscreen mozallowfullscreen></iframe></div></div>"
      ],
      "text/plain": [
       "<folium.folium.Map at 0x7f779f3c6e60>"
      ]
     },
     "execution_count": 29,
     "metadata": {},
     "output_type": "execute_result"
    }
   ],
   "source": [
    "# A simple folium map\n",
    "import folium\n",
    "m = folium.Map(location=[lat,lon])\n",
    "m"
   ]
  },
  {
   "cell_type": "code",
   "execution_count": 30,
   "id": "1088294f-577e-4b0e-bfb1-8d70297505a5",
   "metadata": {},
   "outputs": [],
   "source": [
    "# Google function that allows ee layers on folium\n",
    "def add_ee_layer(self, ee_image_object, vis_params, name):\n",
    "    \"\"\"Adds a method for displaying Earth Engine image tiles to folium map.\"\"\"\n",
    "    map_id_dict = ee.Image(ee_image_object).getMapId(vis_params)\n",
    "    folium.raster_layers.TileLayer(\n",
    "        tiles=map_id_dict['tile_fetcher'].url_format,\n",
    "        attr='Map Data &copy; <a href=\"https://earthengine.google.com/\">Google Earth Engine</a>',\n",
    "        name=name,\n",
    "        overlay=True,\n",
    "        control=True\n",
    "    ).add_to(self)\n",
    "\n",
    "# Add Earth Engine drawing method to folium\n",
    "folium.Map.add_ee_layer = add_ee_layer"
   ]
  },
  {
   "cell_type": "code",
   "execution_count": 31,
   "id": "4abc9d18-6f50-4902-9c6f-6afd3cf6fce1",
   "metadata": {},
   "outputs": [
    {
     "data": {
      "text/html": [
       "<div style=\"width:100%;\"><div style=\"position:relative;width:100%;height:0;padding-bottom:60%;\"><span style=\"color:#565656\">Make this Notebook Trusted to load map: File -> Trust Notebook</span><iframe srcdoc=\"&lt;!DOCTYPE html&gt;\n",
       "&lt;html&gt;\n",
       "&lt;head&gt;\n",
       "    \n",
       "    &lt;meta http-equiv=&quot;content-type&quot; content=&quot;text/html; charset=UTF-8&quot; /&gt;\n",
       "    \n",
       "        &lt;script&gt;\n",
       "            L_NO_TOUCH = false;\n",
       "            L_DISABLE_3D = false;\n",
       "        &lt;/script&gt;\n",
       "    \n",
       "    &lt;style&gt;html, body {width: 100%;height: 100%;margin: 0;padding: 0;}&lt;/style&gt;\n",
       "    &lt;style&gt;#map {position:absolute;top:0;bottom:0;right:0;left:0;}&lt;/style&gt;\n",
       "    &lt;script src=&quot;https://cdn.jsdelivr.net/npm/leaflet@1.9.3/dist/leaflet.js&quot;&gt;&lt;/script&gt;\n",
       "    &lt;script src=&quot;https://code.jquery.com/jquery-3.7.1.min.js&quot;&gt;&lt;/script&gt;\n",
       "    &lt;script src=&quot;https://cdn.jsdelivr.net/npm/bootstrap@5.2.2/dist/js/bootstrap.bundle.min.js&quot;&gt;&lt;/script&gt;\n",
       "    &lt;script src=&quot;https://cdnjs.cloudflare.com/ajax/libs/Leaflet.awesome-markers/2.0.2/leaflet.awesome-markers.js&quot;&gt;&lt;/script&gt;\n",
       "    &lt;link rel=&quot;stylesheet&quot; href=&quot;https://cdn.jsdelivr.net/npm/leaflet@1.9.3/dist/leaflet.css&quot;/&gt;\n",
       "    &lt;link rel=&quot;stylesheet&quot; href=&quot;https://cdn.jsdelivr.net/npm/bootstrap@5.2.2/dist/css/bootstrap.min.css&quot;/&gt;\n",
       "    &lt;link rel=&quot;stylesheet&quot; href=&quot;https://netdna.bootstrapcdn.com/bootstrap/3.0.0/css/bootstrap.min.css&quot;/&gt;\n",
       "    &lt;link rel=&quot;stylesheet&quot; href=&quot;https://cdn.jsdelivr.net/npm/@fortawesome/fontawesome-free@6.2.0/css/all.min.css&quot;/&gt;\n",
       "    &lt;link rel=&quot;stylesheet&quot; href=&quot;https://cdnjs.cloudflare.com/ajax/libs/Leaflet.awesome-markers/2.0.2/leaflet.awesome-markers.css&quot;/&gt;\n",
       "    &lt;link rel=&quot;stylesheet&quot; href=&quot;https://cdn.jsdelivr.net/gh/python-visualization/folium/folium/templates/leaflet.awesome.rotate.min.css&quot;/&gt;\n",
       "    \n",
       "            &lt;meta name=&quot;viewport&quot; content=&quot;width=device-width,\n",
       "                initial-scale=1.0, maximum-scale=1.0, user-scalable=no&quot; /&gt;\n",
       "            &lt;style&gt;\n",
       "                #map_ee936d8bbd9d5437fca03d7642350984 {\n",
       "                    position: relative;\n",
       "                    width: 100.0%;\n",
       "                    height: 100.0%;\n",
       "                    left: 0.0%;\n",
       "                    top: 0.0%;\n",
       "                }\n",
       "                .leaflet-container { font-size: 1rem; }\n",
       "            &lt;/style&gt;\n",
       "        \n",
       "&lt;/head&gt;\n",
       "&lt;body&gt;\n",
       "    \n",
       "    \n",
       "            &lt;div class=&quot;folium-map&quot; id=&quot;map_ee936d8bbd9d5437fca03d7642350984&quot; &gt;&lt;/div&gt;\n",
       "        \n",
       "&lt;/body&gt;\n",
       "&lt;script&gt;\n",
       "    \n",
       "    \n",
       "            var map_ee936d8bbd9d5437fca03d7642350984 = L.map(\n",
       "                &quot;map_ee936d8bbd9d5437fca03d7642350984&quot;,\n",
       "                {\n",
       "                    center: [-0.18, 37.3],\n",
       "                    crs: L.CRS.EPSG3857,\n",
       "                    zoom: 10,\n",
       "                    zoomControl: true,\n",
       "                    preferCanvas: false,\n",
       "                }\n",
       "            );\n",
       "\n",
       "            \n",
       "\n",
       "        \n",
       "    \n",
       "            var tile_layer_4d70e645793aaf3f64afa1653cda4a2d = L.tileLayer(\n",
       "                &quot;https://tile.openstreetmap.org/{z}/{x}/{y}.png&quot;,\n",
       "                {&quot;attribution&quot;: &quot;\\u0026copy; \\u003ca href=\\&quot;https://www.openstreetmap.org/copyright\\&quot;\\u003eOpenStreetMap\\u003c/a\\u003e contributors&quot;, &quot;detectRetina&quot;: false, &quot;maxNativeZoom&quot;: 19, &quot;maxZoom&quot;: 19, &quot;minZoom&quot;: 0, &quot;noWrap&quot;: false, &quot;opacity&quot;: 1, &quot;subdomains&quot;: &quot;abc&quot;, &quot;tms&quot;: false}\n",
       "            );\n",
       "        \n",
       "    \n",
       "            tile_layer_4d70e645793aaf3f64afa1653cda4a2d.addTo(map_ee936d8bbd9d5437fca03d7642350984);\n",
       "        \n",
       "    \n",
       "            var tile_layer_1985afc6aa3a043a9bade43e0fd68023 = L.tileLayer(\n",
       "                &quot;https://earthengine.googleapis.com/v1/projects/earthengine-legacy/maps/56f01e815edc27eb2cd2f8d21ba78df4-5857651b3630a39acbfd2d0911a5a0b1/tiles/{z}/{x}/{y}&quot;,\n",
       "                {&quot;attribution&quot;: &quot;Map Data \\u0026copy; \\u003ca href=\\&quot;https://earthengine.google.com/\\&quot;\\u003eGoogle Earth Engine\\u003c/a\\u003e&quot;, &quot;detectRetina&quot;: false, &quot;maxNativeZoom&quot;: 18, &quot;maxZoom&quot;: 18, &quot;minZoom&quot;: 0, &quot;noWrap&quot;: false, &quot;opacity&quot;: 1, &quot;subdomains&quot;: &quot;abc&quot;, &quot;tms&quot;: false}\n",
       "            );\n",
       "        \n",
       "    \n",
       "            tile_layer_1985afc6aa3a043a9bade43e0fd68023.addTo(map_ee936d8bbd9d5437fca03d7642350984);\n",
       "        \n",
       "    \n",
       "            var tile_layer_a031f0dffb6576f296d8c04b60045ea0 = L.tileLayer(\n",
       "                &quot;https://earthengine.googleapis.com/v1/projects/earthengine-legacy/maps/d617d6a542ac21b6e51f91ba2039af63-7faf3810f09428f48a0cd36578bea1c5/tiles/{z}/{x}/{y}&quot;,\n",
       "                {&quot;attribution&quot;: &quot;Map Data \\u0026copy; \\u003ca href=\\&quot;https://earthengine.google.com/\\&quot;\\u003eGoogle Earth Engine\\u003c/a\\u003e&quot;, &quot;detectRetina&quot;: false, &quot;maxNativeZoom&quot;: 18, &quot;maxZoom&quot;: 18, &quot;minZoom&quot;: 0, &quot;noWrap&quot;: false, &quot;opacity&quot;: 1, &quot;subdomains&quot;: &quot;abc&quot;, &quot;tms&quot;: false}\n",
       "            );\n",
       "        \n",
       "    \n",
       "            tile_layer_a031f0dffb6576f296d8c04b60045ea0.addTo(map_ee936d8bbd9d5437fca03d7642350984);\n",
       "        \n",
       "    \n",
       "            var layer_control_de4f251500389e3bd735b768fc7b4290_layers = {\n",
       "                base_layers : {\n",
       "                    &quot;openstreetmap&quot; : tile_layer_4d70e645793aaf3f64afa1653cda4a2d,\n",
       "                },\n",
       "                overlays :  {\n",
       "                    &quot;2019-02-01 07:42:33&quot; : tile_layer_1985afc6aa3a043a9bade43e0fd68023,\n",
       "                    &quot;2019-03-21 07:42:22&quot; : tile_layer_a031f0dffb6576f296d8c04b60045ea0,\n",
       "                },\n",
       "            };\n",
       "            let layer_control_de4f251500389e3bd735b768fc7b4290 = L.control.layers(\n",
       "                layer_control_de4f251500389e3bd735b768fc7b4290_layers.base_layers,\n",
       "                layer_control_de4f251500389e3bd735b768fc7b4290_layers.overlays,\n",
       "                {&quot;autoZIndex&quot;: true, &quot;collapsed&quot;: false, &quot;position&quot;: &quot;topright&quot;}\n",
       "            ).addTo(map_ee936d8bbd9d5437fca03d7642350984);\n",
       "\n",
       "        \n",
       "&lt;/script&gt;\n",
       "&lt;/html&gt;\" style=\"position:absolute;width:100%;height:100%;left:0;top:0;border:none !important;\" allowfullscreen webkitallowfullscreen mozallowfullscreen></iframe></div></div>"
      ],
      "text/plain": [
       "<folium.folium.Map at 0x7f779eeb1cf0>"
      ]
     },
     "metadata": {},
     "output_type": "display_data"
    }
   ],
   "source": [
    "# Create a map\n",
    "my_map = folium.Map(location=[lat, lon], zoom_start=10)\n",
    "\n",
    "# Add a layer for each satellite image of interest (before, during and after)\n",
    "for i in landsat_sequence:\n",
    "\n",
    "    # when was this image taken?\n",
    "    date = ee.Date(ee.Image(landsat_list.get(i)).get('system:time_start'))\n",
    "    time = date.getInfo()['value']/1000\n",
    "    date = dt.utcfromtimestamp(time).strftime('%Y-%m-%d %H:%M:%S')\n",
    "\n",
    "    my_map.add_ee_layer(ee.Image(landsat_list.get(i)).normalizedDifference(['B5', 'B4']), \n",
    "                        ndvi_parameters, \n",
    "                        name=date)\n",
    "    \n",
    "# Add a layer control panel to the map\n",
    "folium.LayerControl(collapsed = False).add_to(my_map)\n",
    "\n",
    "# Display the map.\n",
    "display(my_map)"
   ]
  },
  {
   "cell_type": "markdown",
   "id": "9122681d-690c-4da3-9f31-3e163a35b392",
   "metadata": {},
   "source": [
    "## Saving the folium map as an html file"
   ]
  },
  {
   "cell_type": "code",
   "execution_count": 32,
   "id": "a8aef9d7-fd70-4830-afd9-88c58f690ea7",
   "metadata": {},
   "outputs": [],
   "source": [
    "my_map.save('MtKE.html')"
   ]
  },
  {
   "cell_type": "markdown",
   "id": "2a384a41-3fdf-4f79-99d2-59ba2d104234",
   "metadata": {},
   "source": [
    "## Resources <br>\n",
    "\n",
    "\n",
    "* [Earth Lab](https://www.earthdatascience.org/courses/use-data-open-source-python/multispectral-remote-sensing/landsat-in-Python/) <br>\n",
    "* [Google's Python Tutorial](https://developers.google.com/earth-engine/tutorials/community/intro-to-python-api-guiattard)"
   ]
  }
 ],
 "metadata": {
  "kernelspec": {
   "display_name": "Python 3 (ipykernel)",
   "language": "python",
   "name": "python3"
  },
  "language_info": {
   "codemirror_mode": {
    "name": "ipython",
    "version": 3
   },
   "file_extension": ".py",
   "mimetype": "text/x-python",
   "name": "python",
   "nbconvert_exporter": "python",
   "pygments_lexer": "ipython3",
   "version": "3.10.12"
  }
 },
 "nbformat": 4,
 "nbformat_minor": 5
}
